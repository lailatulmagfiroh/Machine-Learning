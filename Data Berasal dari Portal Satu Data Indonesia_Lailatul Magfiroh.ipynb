{
 "cells": [
  {
   "cell_type": "code",
   "execution_count": 3,
   "id": "6035cae3-c736-41f2-9727-323cbc3f7322",
   "metadata": {
    "tags": []
   },
   "outputs": [],
   "source": [
    "# Ambil satu dataset yang berasal dari Portal Satu Data Indonesia.\n",
    "# Upload data tersebut ke dalam pandas kemudian bersihkan data menggunakan fungsi drop"
   ]
  },
  {
   "cell_type": "code",
   "execution_count": 4,
   "id": "de34bff1-521d-4346-99a1-4d01d48c532b",
   "metadata": {
    "tags": []
   },
   "outputs": [],
   "source": [
    "import pandas as pd\n",
    "import numpy as np"
   ]
  },
  {
   "cell_type": "code",
   "execution_count": 8,
   "id": "44fcc081-73a0-4070-a2bc-e5f25a88e576",
   "metadata": {
    "tags": []
   },
   "outputs": [
    {
     "data": {
      "text/html": [
       "<div>\n",
       "<style scoped>\n",
       "    .dataframe tbody tr th:only-of-type {\n",
       "        vertical-align: middle;\n",
       "    }\n",
       "\n",
       "    .dataframe tbody tr th {\n",
       "        vertical-align: top;\n",
       "    }\n",
       "\n",
       "    .dataframe thead th {\n",
       "        text-align: right;\n",
       "    }\n",
       "</style>\n",
       "<table border=\"1\" class=\"dataframe\">\n",
       "  <thead>\n",
       "    <tr style=\"text-align: right;\">\n",
       "      <th></th>\n",
       "      <th>_id</th>\n",
       "      <th>No</th>\n",
       "      <th>Sekolah</th>\n",
       "      <th>NPSN</th>\n",
       "      <th>Jenjang</th>\n",
       "      <th>Kecamatan</th>\n",
       "      <th>TW 1</th>\n",
       "    </tr>\n",
       "  </thead>\n",
       "  <tbody>\n",
       "    <tr>\n",
       "      <th>0</th>\n",
       "      <td>1</td>\n",
       "      <td>1</td>\n",
       "      <td>SD NEGERI WANAR 01</td>\n",
       "      <td>20322874</td>\n",
       "      <td>N</td>\n",
       "      <td>Tersono</td>\n",
       "      <td>10.720.000</td>\n",
       "    </tr>\n",
       "    <tr>\n",
       "      <th>1</th>\n",
       "      <td>2</td>\n",
       "      <td>2</td>\n",
       "      <td>SD NEGERI TERSONO</td>\n",
       "      <td>20322806</td>\n",
       "      <td>N</td>\n",
       "      <td>Tersono</td>\n",
       "      <td>19.040.000</td>\n",
       "    </tr>\n",
       "    <tr>\n",
       "      <th>2</th>\n",
       "      <td>3</td>\n",
       "      <td>3</td>\n",
       "      <td>SD NEGERI TEGALOMBO 02</td>\n",
       "      <td>20322811</td>\n",
       "      <td>N</td>\n",
       "      <td>Tersono</td>\n",
       "      <td>12.960.000</td>\n",
       "    </tr>\n",
       "    <tr>\n",
       "      <th>3</th>\n",
       "      <td>4</td>\n",
       "      <td>4</td>\n",
       "      <td>SD NEGERI TEGALOMBO 01</td>\n",
       "      <td>20322812</td>\n",
       "      <td>N</td>\n",
       "      <td>Tersono</td>\n",
       "      <td>12.960.000</td>\n",
       "    </tr>\n",
       "    <tr>\n",
       "      <th>4</th>\n",
       "      <td>5</td>\n",
       "      <td>5</td>\n",
       "      <td>SD NEGERI TANJUNGSARI</td>\n",
       "      <td>20322796</td>\n",
       "      <td>N</td>\n",
       "      <td>Tersono</td>\n",
       "      <td>9.600.000</td>\n",
       "    </tr>\n",
       "  </tbody>\n",
       "</table>\n",
       "</div>"
      ],
      "text/plain": [
       "   _id  No                 Sekolah      NPSN Jenjang Kecamatan          TW 1\n",
       "0    1   1      SD NEGERI WANAR 01  20322874       N   Tersono   10.720.000 \n",
       "1    2   2       SD NEGERI TERSONO  20322806       N   Tersono   19.040.000 \n",
       "2    3   3  SD NEGERI TEGALOMBO 02  20322811       N   Tersono   12.960.000 \n",
       "3    4   4  SD NEGERI TEGALOMBO 01  20322812       N   Tersono   12.960.000 \n",
       "4    5   5   SD NEGERI TANJUNGSARI  20322796       N   Tersono    9.600.000 "
      ]
     },
     "execution_count": 8,
     "metadata": {},
     "output_type": "execute_result"
    }
   ],
   "source": [
    "df = pd.read_csv(\"D://UNESA//SEMESTER 5//Machine Learning//Praktikum 2//06282b95-736d-4c14-9ccf-e5ad128d0db6.csv\")\n",
    "df.head()"
   ]
  },
  {
   "cell_type": "code",
   "execution_count": 9,
   "id": "5e270c78-cce3-4690-8e77-3aecbfd306f8",
   "metadata": {
    "tags": []
   },
   "outputs": [],
   "source": [
    "# Menghapus kolom jenjang karena tidak ada deskripsi lebih lanjut\n",
    "to_drop = ['Jenjang']\n",
    "df.drop(to_drop, inplace=True, axis=1)"
   ]
  },
  {
   "cell_type": "code",
   "execution_count": 10,
   "id": "003e3862-a60e-420a-a595-46928bea948c",
   "metadata": {
    "tags": []
   },
   "outputs": [
    {
     "data": {
      "text/html": [
       "<div>\n",
       "<style scoped>\n",
       "    .dataframe tbody tr th:only-of-type {\n",
       "        vertical-align: middle;\n",
       "    }\n",
       "\n",
       "    .dataframe tbody tr th {\n",
       "        vertical-align: top;\n",
       "    }\n",
       "\n",
       "    .dataframe thead th {\n",
       "        text-align: right;\n",
       "    }\n",
       "</style>\n",
       "<table border=\"1\" class=\"dataframe\">\n",
       "  <thead>\n",
       "    <tr style=\"text-align: right;\">\n",
       "      <th></th>\n",
       "      <th>_id</th>\n",
       "      <th>No</th>\n",
       "      <th>Sekolah</th>\n",
       "      <th>NPSN</th>\n",
       "      <th>Kecamatan</th>\n",
       "      <th>TW 1</th>\n",
       "    </tr>\n",
       "  </thead>\n",
       "  <tbody>\n",
       "    <tr>\n",
       "      <th>0</th>\n",
       "      <td>1</td>\n",
       "      <td>1</td>\n",
       "      <td>SD NEGERI WANAR 01</td>\n",
       "      <td>20322874</td>\n",
       "      <td>Tersono</td>\n",
       "      <td>10.720.000</td>\n",
       "    </tr>\n",
       "    <tr>\n",
       "      <th>1</th>\n",
       "      <td>2</td>\n",
       "      <td>2</td>\n",
       "      <td>SD NEGERI TERSONO</td>\n",
       "      <td>20322806</td>\n",
       "      <td>Tersono</td>\n",
       "      <td>19.040.000</td>\n",
       "    </tr>\n",
       "    <tr>\n",
       "      <th>2</th>\n",
       "      <td>3</td>\n",
       "      <td>3</td>\n",
       "      <td>SD NEGERI TEGALOMBO 02</td>\n",
       "      <td>20322811</td>\n",
       "      <td>Tersono</td>\n",
       "      <td>12.960.000</td>\n",
       "    </tr>\n",
       "    <tr>\n",
       "      <th>3</th>\n",
       "      <td>4</td>\n",
       "      <td>4</td>\n",
       "      <td>SD NEGERI TEGALOMBO 01</td>\n",
       "      <td>20322812</td>\n",
       "      <td>Tersono</td>\n",
       "      <td>12.960.000</td>\n",
       "    </tr>\n",
       "    <tr>\n",
       "      <th>4</th>\n",
       "      <td>5</td>\n",
       "      <td>5</td>\n",
       "      <td>SD NEGERI TANJUNGSARI</td>\n",
       "      <td>20322796</td>\n",
       "      <td>Tersono</td>\n",
       "      <td>9.600.000</td>\n",
       "    </tr>\n",
       "  </tbody>\n",
       "</table>\n",
       "</div>"
      ],
      "text/plain": [
       "   _id  No                 Sekolah      NPSN Kecamatan          TW 1\n",
       "0    1   1      SD NEGERI WANAR 01  20322874   Tersono   10.720.000 \n",
       "1    2   2       SD NEGERI TERSONO  20322806   Tersono   19.040.000 \n",
       "2    3   3  SD NEGERI TEGALOMBO 02  20322811   Tersono   12.960.000 \n",
       "3    4   4  SD NEGERI TEGALOMBO 01  20322812   Tersono   12.960.000 \n",
       "4    5   5   SD NEGERI TANJUNGSARI  20322796   Tersono    9.600.000 "
      ]
     },
     "execution_count": 10,
     "metadata": {},
     "output_type": "execute_result"
    }
   ],
   "source": [
    "df.head()"
   ]
  },
  {
   "cell_type": "code",
   "execution_count": null,
   "id": "86d9b556-6bc1-423b-b27a-6d5e84c0dc56",
   "metadata": {},
   "outputs": [],
   "source": []
  }
 ],
 "metadata": {
  "kernelspec": {
   "display_name": "Python 3 (ipykernel)",
   "language": "python",
   "name": "python3"
  },
  "language_info": {
   "codemirror_mode": {
    "name": "ipython",
    "version": 3
   },
   "file_extension": ".py",
   "mimetype": "text/x-python",
   "name": "python",
   "nbconvert_exporter": "python",
   "pygments_lexer": "ipython3",
   "version": "3.11.4"
  }
 },
 "nbformat": 4,
 "nbformat_minor": 5
}
